{
 "nbformat": 4,
 "nbformat_minor": 0,
 "metadata": {
  "colab": {
   "provenance": [],
   "authorship_tag": "ABX9TyMj3n2VbxSCPgnz71EAgxMq"
  },
  "kernelspec": {
   "name": "python3",
   "display_name": "Python 3 (ipykernel)",
   "language": "python"
  },
  "language_info": {
   "name": "python"
  }
 },
 "cells": [
  {
   "cell_type": "code",
   "metadata": {
    "colab": {
     "base_uri": "https://localhost:8080/"
    },
    "id": "xLPawQXmlEqE",
    "outputId": "7c7d7276-2a1e-438f-d953-924f045cb306",
    "ExecuteTime": {
     "end_time": "2025-03-16T17:49:27.818020Z",
     "start_time": "2025-03-16T17:49:08.505391Z"
    }
   },
   "source": [
    "import nltk\n",
    "import random\n",
    "import numpy as np\n",
    "import string\n",
    "import warnings\n",
    "from sklearn.feature_extraction.text import TfidfVectorizer\n",
    "from sklearn.metrics.pairwise import cosine_similarity\n",
    "from nltk.tokenize import word_tokenize\n",
    "from nltk.corpus import stopwords\n",
    "from nltk.stem import WordNetLemmatizer\n",
    "\n",
    "nltk.download('punkt')\n",
    "nltk.download('wordnet')"
   ],
   "outputs": [
    {
     "name": "stderr",
     "output_type": "stream",
     "text": [
      "[nltk_data] Downloading package punkt to\n",
      "[nltk_data]     C:\\Users\\Administrator\\AppData\\Roaming\\nltk_data...\n",
      "[nltk_data]   Unzipping tokenizers\\punkt.zip.\n",
      "[nltk_data] Downloading package wordnet to\n",
      "[nltk_data]     C:\\Users\\Administrator\\AppData\\Roaming\\nltk_data...\n"
     ]
    },
    {
     "data": {
      "text/plain": [
       "True"
      ]
     },
     "execution_count": 3,
     "metadata": {},
     "output_type": "execute_result"
    }
   ],
   "execution_count": 3
  },
  {
   "cell_type": "code",
   "source": [
    "chatbot = {\n",
    "    \"hello\" : \"hai how can i help you ?\",\n",
    "    \"What is your Name\" : \"my name is learnscape support\",\n",
    "    \"how are you\": \" iam fine, what about you\",\n",
    "    \"where is taj mahal located\" : \"Taj mahal is located in Agra \",\n",
    "    \"default\" : \"i dont known how to respond this \",\n",
    "    \"what is learnScape\" : \"learn scape is a coding school platform created for students from class 5 on wards.learn scape provide classes on python and C programming.the level of class will different for different students from different students\",\n",
    "    \"what are the course provided\" : \" we provide Python & C programming\"\n",
    "    }"
   ],
   "metadata": {
    "id": "-jyAEMFYmnqC",
    "ExecuteTime": {
     "end_time": "2025-03-16T17:49:59.580242Z",
     "start_time": "2025-03-16T17:49:59.574325Z"
    }
   },
   "outputs": [],
   "execution_count": 4
  },
  {
   "cell_type": "code",
   "source": [
    "chatbot[\"what is learnScape\"]"
   ],
   "metadata": {
    "colab": {
     "base_uri": "https://localhost:8080/",
     "height": 52
    },
    "id": "SVUcWksWpYJ6",
    "outputId": "7db33e20-182f-45c0-b3b4-8f76ea484c08",
    "ExecuteTime": {
     "end_time": "2025-03-16T17:50:02.577076Z",
     "start_time": "2025-03-16T17:50:02.570470Z"
    }
   },
   "outputs": [
    {
     "data": {
      "text/plain": [
       "'learn scape is a coding school platform created for students from class 5 on wards.learn scape provide classes on python and C programming.the level of class will different for different students from different students'"
      ]
     },
     "execution_count": 5,
     "metadata": {},
     "output_type": "execute_result"
    }
   ],
   "execution_count": 5
  },
  {
   "cell_type": "code",
   "source": [
    "lemmatizer = WordNetLemmatizer()\n",
    "def preprocess(text):\n",
    "  token = word_tokenize(text.lower())\n",
    "  token = [lemmatizer.lemmatize(word)for word in token if word not in string.punctuation]\n",
    "  return \" \".join(token)\n"
   ],
   "metadata": {
    "id": "EBi3Mk1lqzpW",
    "ExecuteTime": {
     "end_time": "2025-03-16T17:50:41.604619Z",
     "start_time": "2025-03-16T17:50:41.599094Z"
    }
   },
   "outputs": [],
   "execution_count": 6
  },
  {
   "cell_type": "code",
   "source": [
    "def get_response(user_input):\n",
    "  user_input = preprocess(user_input)\n",
    "  response = list(chatbot.keys())\n",
    "\n",
    "  #use TF-IDF for finding best Match\n",
    "  vectorizer = TfidfVectorizer()\n",
    "  vectors = vectorizer.fit_transform(response + [user_input])\n",
    "  similarity = cosine_similarity(vectors[-1], vectors[:-1])\n",
    "\n",
    "\n",
    "  best_match = np.argmax(similarity)\n",
    "  if similarity[0][best_match] < 0.2:\n",
    "    return chatbot[\"default\"]\n",
    "  return chatbot[response[best_match]]"
   ],
   "metadata": {
    "id": "0Z7mT778znKi",
    "ExecuteTime": {
     "end_time": "2025-03-16T17:51:18.553479Z",
     "start_time": "2025-03-16T17:51:18.547173Z"
    }
   },
   "outputs": [],
   "execution_count": 7
  },
  {
   "cell_type": "code",
   "source": [
    "nltk.download('punkt_tab')\n"
   ],
   "metadata": {
    "colab": {
     "base_uri": "https://localhost:8080/"
    },
    "id": "m-yyMZrqqyrI",
    "outputId": "2b149493-cdcb-4ed3-b144-b5b01b4f0d46",
    "ExecuteTime": {
     "end_time": "2025-03-16T17:52:42.721791Z",
     "start_time": "2025-03-16T17:52:41.640956Z"
    }
   },
   "outputs": [
    {
     "name": "stderr",
     "output_type": "stream",
     "text": [
      "[nltk_data] Downloading package punkt_tab to\n",
      "[nltk_data]     C:\\Users\\Administrator\\AppData\\Roaming\\nltk_data...\n",
      "[nltk_data]   Unzipping tokenizers\\punkt_tab.zip.\n"
     ]
    },
    {
     "data": {
      "text/plain": [
       "True"
      ]
     },
     "execution_count": 8,
     "metadata": {},
     "output_type": "execute_result"
    }
   ],
   "execution_count": 8
  },
  {
   "cell_type": "code",
   "source": [
    "def chat():\n",
    "  print(\"welcome to learnscape support , type 'quit' to exit.\")\n",
    "  while True:\n",
    "    user_input = input(\"you : \")\n",
    "    if user_input.lower() == \"quit\":\n",
    "      print(\"learnscape: goodbye\")\n",
    "      break\n",
    "    responses = get_response(user_input)\n",
    "    print(f\"learnscape:{responses}\")\n",
    "chat()"
   ],
   "metadata": {
    "colab": {
     "base_uri": "https://localhost:8080/"
    },
    "id": "hNXJ9WDR0pTp",
    "outputId": "b84ae39b-a7bd-44e3-897a-66b5c824ab55",
    "ExecuteTime": {
     "end_time": "2025-03-16T17:55:13.251949Z",
     "start_time": "2025-03-16T17:53:55.885070Z"
    }
   },
   "outputs": [
    {
     "name": "stdout",
     "output_type": "stream",
     "text": [
      "welcome to learnscape support , type 'quit' to exit.\n",
      "learnscape:i dont known how to respond this \n",
      "learnscape: iam fine, what about you\n",
      "learnscape:learn scape is a coding school platform created for students from class 5 on wards.learn scape provide classes on python and C programming.the level of class will different for different students from different students\n",
      "learnscape: iam fine, what about you\n",
      "learnscape: iam fine, what about you\n",
      "learnscape:my name is learnscape support\n"
     ]
    },
    {
     "ename": "KeyboardInterrupt",
     "evalue": "Interrupted by user",
     "output_type": "error",
     "traceback": [
      "\u001B[1;31m---------------------------------------------------------------------------\u001B[0m",
      "\u001B[1;31mKeyboardInterrupt\u001B[0m                         Traceback (most recent call last)",
      "Cell \u001B[1;32mIn[10], line 10\u001B[0m\n\u001B[0;32m      8\u001B[0m     responses \u001B[38;5;241m=\u001B[39m get_response(user_input)\n\u001B[0;32m      9\u001B[0m     \u001B[38;5;28mprint\u001B[39m(\u001B[38;5;124mf\u001B[39m\u001B[38;5;124m\"\u001B[39m\u001B[38;5;124mlearnscape:\u001B[39m\u001B[38;5;132;01m{\u001B[39;00mresponses\u001B[38;5;132;01m}\u001B[39;00m\u001B[38;5;124m\"\u001B[39m)\n\u001B[1;32m---> 10\u001B[0m chat()\n",
      "Cell \u001B[1;32mIn[10], line 4\u001B[0m, in \u001B[0;36mchat\u001B[1;34m()\u001B[0m\n\u001B[0;32m      2\u001B[0m \u001B[38;5;28mprint\u001B[39m(\u001B[38;5;124m\"\u001B[39m\u001B[38;5;124mwelcome to learnscape support , type \u001B[39m\u001B[38;5;124m'\u001B[39m\u001B[38;5;124mquit\u001B[39m\u001B[38;5;124m'\u001B[39m\u001B[38;5;124m to exit.\u001B[39m\u001B[38;5;124m\"\u001B[39m)\n\u001B[0;32m      3\u001B[0m \u001B[38;5;28;01mwhile\u001B[39;00m \u001B[38;5;28;01mTrue\u001B[39;00m:\n\u001B[1;32m----> 4\u001B[0m   user_input \u001B[38;5;241m=\u001B[39m \u001B[38;5;28minput\u001B[39m(\u001B[38;5;124m\"\u001B[39m\u001B[38;5;124myou : \u001B[39m\u001B[38;5;124m\"\u001B[39m)\n\u001B[0;32m      5\u001B[0m   \u001B[38;5;28;01mif\u001B[39;00m user_input\u001B[38;5;241m.\u001B[39mlower() \u001B[38;5;241m==\u001B[39m \u001B[38;5;124m\"\u001B[39m\u001B[38;5;124mquit\u001B[39m\u001B[38;5;124m\"\u001B[39m:\n\u001B[0;32m      6\u001B[0m     \u001B[38;5;28mprint\u001B[39m(\u001B[38;5;124m\"\u001B[39m\u001B[38;5;124mlearnscape: goodbye\u001B[39m\u001B[38;5;124m\"\u001B[39m)\n",
      "File \u001B[1;32m~\\miniconda3\\Lib\\site-packages\\ipykernel\\kernelbase.py:1282\u001B[0m, in \u001B[0;36mKernel.raw_input\u001B[1;34m(self, prompt)\u001B[0m\n\u001B[0;32m   1280\u001B[0m     msg \u001B[38;5;241m=\u001B[39m \u001B[38;5;124m\"\u001B[39m\u001B[38;5;124mraw_input was called, but this frontend does not support input requests.\u001B[39m\u001B[38;5;124m\"\u001B[39m\n\u001B[0;32m   1281\u001B[0m     \u001B[38;5;28;01mraise\u001B[39;00m StdinNotImplementedError(msg)\n\u001B[1;32m-> 1282\u001B[0m \u001B[38;5;28;01mreturn\u001B[39;00m \u001B[38;5;28mself\u001B[39m\u001B[38;5;241m.\u001B[39m_input_request(\n\u001B[0;32m   1283\u001B[0m     \u001B[38;5;28mstr\u001B[39m(prompt),\n\u001B[0;32m   1284\u001B[0m     \u001B[38;5;28mself\u001B[39m\u001B[38;5;241m.\u001B[39m_parent_ident[\u001B[38;5;124m\"\u001B[39m\u001B[38;5;124mshell\u001B[39m\u001B[38;5;124m\"\u001B[39m],\n\u001B[0;32m   1285\u001B[0m     \u001B[38;5;28mself\u001B[39m\u001B[38;5;241m.\u001B[39mget_parent(\u001B[38;5;124m\"\u001B[39m\u001B[38;5;124mshell\u001B[39m\u001B[38;5;124m\"\u001B[39m),\n\u001B[0;32m   1286\u001B[0m     password\u001B[38;5;241m=\u001B[39m\u001B[38;5;28;01mFalse\u001B[39;00m,\n\u001B[0;32m   1287\u001B[0m )\n",
      "File \u001B[1;32m~\\miniconda3\\Lib\\site-packages\\ipykernel\\kernelbase.py:1325\u001B[0m, in \u001B[0;36mKernel._input_request\u001B[1;34m(self, prompt, ident, parent, password)\u001B[0m\n\u001B[0;32m   1322\u001B[0m \u001B[38;5;28;01mexcept\u001B[39;00m \u001B[38;5;167;01mKeyboardInterrupt\u001B[39;00m:\n\u001B[0;32m   1323\u001B[0m     \u001B[38;5;66;03m# re-raise KeyboardInterrupt, to truncate traceback\u001B[39;00m\n\u001B[0;32m   1324\u001B[0m     msg \u001B[38;5;241m=\u001B[39m \u001B[38;5;124m\"\u001B[39m\u001B[38;5;124mInterrupted by user\u001B[39m\u001B[38;5;124m\"\u001B[39m\n\u001B[1;32m-> 1325\u001B[0m     \u001B[38;5;28;01mraise\u001B[39;00m \u001B[38;5;167;01mKeyboardInterrupt\u001B[39;00m(msg) \u001B[38;5;28;01mfrom\u001B[39;00m \u001B[38;5;28;01mNone\u001B[39;00m\n\u001B[0;32m   1326\u001B[0m \u001B[38;5;28;01mexcept\u001B[39;00m \u001B[38;5;167;01mException\u001B[39;00m:\n\u001B[0;32m   1327\u001B[0m     \u001B[38;5;28mself\u001B[39m\u001B[38;5;241m.\u001B[39mlog\u001B[38;5;241m.\u001B[39mwarning(\u001B[38;5;124m\"\u001B[39m\u001B[38;5;124mInvalid Message:\u001B[39m\u001B[38;5;124m\"\u001B[39m, exc_info\u001B[38;5;241m=\u001B[39m\u001B[38;5;28;01mTrue\u001B[39;00m)\n",
      "\u001B[1;31mKeyboardInterrupt\u001B[0m: Interrupted by user"
     ]
    }
   ],
   "execution_count": 10
  },
  {
   "metadata": {},
   "cell_type": "code",
   "outputs": [],
   "execution_count": null,
   "source": ""
  }
 ]
}
